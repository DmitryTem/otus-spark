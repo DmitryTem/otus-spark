{
 "cells": [
  {
   "cell_type": "code",
   "execution_count": 1,
   "id": "b9f4e8ed-656a-48be-9ae2-11dbbee588de",
   "metadata": {},
   "outputs": [],
   "source": [
    "import findspark\n",
    "findspark.init('/opt/spark')\n",
    "from pyspark.sql import SparkSession"
   ]
  },
  {
   "cell_type": "code",
   "execution_count": 2,
   "id": "0011b394-1ad8-46f2-8df0-f4ade82bd4ae",
   "metadata": {},
   "outputs": [],
   "source": [
    "from pyspark.sql.functions import col, broadcast"
   ]
  },
  {
   "cell_type": "code",
   "execution_count": 3,
   "id": "53166246-b362-44fb-bfaf-1039ba70e32d",
   "metadata": {},
   "outputs": [
    {
     "name": "stderr",
     "output_type": "stream",
     "text": [
      "Setting default log level to \"WARN\".\n",
      "To adjust logging level use sc.setLogLevel(newLevel). For SparkR, use setLogLevel(newLevel).\n",
      "25/01/09 08:52:01 WARN NativeCodeLoader: Unable to load native-hadoop library for your platform... using builtin-java classes where applicable\n"
     ]
    }
   ],
   "source": [
    "spark = SparkSession.builder\\\n",
    "    .enableHiveSupport()\\\n",
    "    .getOrCreate()"
   ]
  },
  {
   "cell_type": "code",
   "execution_count": 13,
   "id": "926bff17-1619-4960-815c-000b710c6b76",
   "metadata": {},
   "outputs": [
    {
     "name": "stdout",
     "output_type": "stream",
     "text": [
      "2025-01-04 14:08:58,776 WARN util.NativeCodeLoader: Unable to load native-hadoop library for your platform... using builtin-java classes where applicable\n"
     ]
    }
   ],
   "source": [
    "! hdfs dfs -mkdir dz5"
   ]
  },
  {
   "cell_type": "code",
   "execution_count": 14,
   "id": "ae724bf1-b123-45d7-9828-5b130a5e2b40",
   "metadata": {},
   "outputs": [
    {
     "name": "stdout",
     "output_type": "stream",
     "text": [
      "2025-01-04 14:09:02,615 WARN util.NativeCodeLoader: Unable to load native-hadoop library for your platform... using builtin-java classes where applicable\n"
     ]
    }
   ],
   "source": [
    "! hdfs dfs -put crime.csv dz5/crime.csv"
   ]
  },
  {
   "cell_type": "code",
   "execution_count": 20,
   "id": "a009f770-709d-46ce-8463-fb3ae5bf3660",
   "metadata": {},
   "outputs": [
    {
     "name": "stdout",
     "output_type": "stream",
     "text": [
      "2025-01-04 14:11:19,699 WARN util.NativeCodeLoader: Unable to load native-hadoop library for your platform... using builtin-java classes where applicable\n"
     ]
    }
   ],
   "source": [
    "! hdfs dfs -put offense_codes.csv dz5/offense_codes.csv"
   ]
  },
  {
   "cell_type": "code",
   "execution_count": 4,
   "id": "0a976a01-7e6a-4667-9d91-9c6dbfaf3399",
   "metadata": {},
   "outputs": [
    {
     "name": "stderr",
     "output_type": "stream",
     "text": [
      "                                                                                \r"
     ]
    }
   ],
   "source": [
    "df_crime = spark.read.option(\"header\", True).csv(\"dz5/crime.csv\")"
   ]
  },
  {
   "cell_type": "code",
   "execution_count": 5,
   "id": "5c35fb37-04c4-4da4-b199-19387dbc13c4",
   "metadata": {},
   "outputs": [
    {
     "name": "stdout",
     "output_type": "stream",
     "text": [
      "+---------------+------------+------------------+-------------------+--------+--------------+--------+-------------------+----+-----+-----------+----+----------+-----------+-----------+------------+--------------------+\n",
      "|INCIDENT_NUMBER|OFFENSE_CODE|OFFENSE_CODE_GROUP|OFFENSE_DESCRIPTION|DISTRICT|REPORTING_AREA|SHOOTING|   OCCURRED_ON_DATE|YEAR|MONTH|DAY_OF_WEEK|HOUR|  UCR_PART|     STREET|        Lat|        Long|            Location|\n",
      "+---------------+------------+------------------+-------------------+--------+--------------+--------+-------------------+----+-----+-----------+----+----------+-----------+-----------+------------+--------------------+\n",
      "|     I182070945|       00619|           Larceny| LARCENY ALL OTHERS|     D14|           808|    null|2018-09-02 13:00:00|2018|    9|     Sunday|  13|  Part One| LINCOLN ST|42.35779134|-71.13937053|(42.35779134, -71...|\n",
      "|     I182070943|       01402|         Vandalism|          VANDALISM|     C11|           347|    null|2018-08-21 00:00:00|2018|    8|    Tuesday|   0|  Part Two|   HECLA ST|42.30682138|-71.06030035|(42.30682138, -71...|\n",
      "|     I182070941|       03410|             Towed|TOWED MOTOR VEHICLE|      D4|           151|    null|2018-09-03 19:27:00|2018|    9|     Monday|  19|Part Three|CAZENOVE ST|42.34658879|-71.07242943|(42.34658879, -71...|\n",
      "+---------------+------------+------------------+-------------------+--------+--------------+--------+-------------------+----+-----+-----------+----+----------+-----------+-----------+------------+--------------------+\n",
      "only showing top 3 rows\n",
      "\n"
     ]
    }
   ],
   "source": [
    "df_crime.show(3)"
   ]
  },
  {
   "cell_type": "code",
   "execution_count": 6,
   "id": "1cf0298e-efb2-4b81-857c-31ae154e93a6",
   "metadata": {},
   "outputs": [
    {
     "name": "stderr",
     "output_type": "stream",
     "text": [
      "                                                                                \r"
     ]
    },
    {
     "data": {
      "text/plain": [
       "319073"
      ]
     },
     "execution_count": 6,
     "metadata": {},
     "output_type": "execute_result"
    }
   ],
   "source": [
    "df_crime.count()"
   ]
  },
  {
   "cell_type": "code",
   "execution_count": 7,
   "id": "7bbbfa0b-69e7-4dc7-9e4d-2631983e7d38",
   "metadata": {},
   "outputs": [],
   "source": [
    "df_offense = spark.read.option(\"header\", True).csv(\"dz5/offense_codes.csv\")"
   ]
  },
  {
   "cell_type": "code",
   "execution_count": 8,
   "id": "3fd035be-19cc-491f-a243-1bb118f7bddb",
   "metadata": {},
   "outputs": [
    {
     "name": "stdout",
     "output_type": "stream",
     "text": [
      "+----+--------------------+\n",
      "|CODE|                NAME|\n",
      "+----+--------------------+\n",
      "| 612|LARCENY PURSE SNA...|\n",
      "| 613| LARCENY SHOPLIFTING|\n",
      "| 615|LARCENY THEFT OF ...|\n",
      "+----+--------------------+\n",
      "only showing top 3 rows\n",
      "\n"
     ]
    }
   ],
   "source": [
    "df_offense.show(3)"
   ]
  },
  {
   "cell_type": "code",
   "execution_count": 9,
   "id": "d49f6e7a-da80-4411-afa1-4c2199a8b995",
   "metadata": {},
   "outputs": [
    {
     "data": {
      "text/plain": [
       "576"
      ]
     },
     "execution_count": 9,
     "metadata": {},
     "output_type": "execute_result"
    }
   ],
   "source": [
    "df_offense.count()"
   ]
  },
  {
   "cell_type": "code",
   "execution_count": 36,
   "id": "4771e61a-7b7a-4fc7-b231-1f158d1f7022",
   "metadata": {},
   "outputs": [],
   "source": [
    "from pyspark.sql.functions import col, broadcast"
   ]
  },
  {
   "cell_type": "code",
   "execution_count": 14,
   "id": "68c4146d-4ba6-4296-98c1-294b3ba2fa0a",
   "metadata": {},
   "outputs": [
    {
     "name": "stderr",
     "output_type": "stream",
     "text": [
      "[Stage 11:>                                                         (0 + 2) / 2]\r"
     ]
    },
    {
     "name": "stdout",
     "output_type": "stream",
     "text": [
      "+--------+-----+\n",
      "|DISTRICT|count|\n",
      "+--------+-----+\n",
      "|      A1|   44|\n",
      "+--------+-----+\n",
      "only showing top 1 row\n",
      "\n"
     ]
    },
    {
     "name": "stderr",
     "output_type": "stream",
     "text": [
      "                                                                                \r"
     ]
    }
   ],
   "source": [
    "broadcast_test = (df_crime\n",
    "    .join(broadcast(df_offense), df_offense[\"CODE\"] == df_crime[\"OFFENSE_CODE\"])\n",
    "    #.filter(col(\"NAME\").startswith(\"ROBBERY\"))\n",
    "    .groupBy(\"DISTRICT\")\n",
    "    .count()\n",
    "    #.orderBy(col(\"count\").desc())\n",
    ")\n",
    "\n",
    "broadcast_test.show(1)"
   ]
  },
  {
   "cell_type": "code",
   "execution_count": null,
   "id": "20b2dc28-bfa5-4ada-adc6-952e154f2c54",
   "metadata": {},
   "outputs": [],
   "source": []
  },
  {
   "cell_type": "code",
   "execution_count": 39,
   "id": "0236b0ed-659d-4e5f-8739-12594b9cc9d8",
   "metadata": {},
   "outputs": [
    {
     "name": "stderr",
     "output_type": "stream",
     "text": [
      "[Stage 34:=============================>                            (1 + 1) / 2]\r"
     ]
    },
    {
     "name": "stdout",
     "output_type": "stream",
     "text": [
      "+------------+-----+\n",
      "|OFFENSE_CODE|count|\n",
      "+------------+-----+\n",
      "|        3115|   16|\n",
      "|        1601|    4|\n",
      "|        2407|    2|\n",
      "|        1605|    2|\n",
      "|        1501|    2|\n",
      "+------------+-----+\n",
      "only showing top 5 rows\n",
      "\n"
     ]
    },
    {
     "name": "stderr",
     "output_type": "stream",
     "text": [
      "                                                                                \r"
     ]
    }
   ],
   "source": []
  },
  {
   "cell_type": "code",
   "execution_count": 16,
   "id": "8006acf4-f196-4551-a708-44c6e4c98dcb",
   "metadata": {},
   "outputs": [],
   "source": [
    "from pyspark.sql import functions"
   ]
  },
  {
   "cell_type": "code",
   "execution_count": 22,
   "id": "453b71cc-956b-4162-9a45-87ddc5bc0272",
   "metadata": {},
   "outputs": [
    {
     "name": "stdout",
     "output_type": "stream",
     "text": [
      "+--------+-----------+\n",
      "|DISTRICT|crime_count|\n",
      "+--------+-----------+\n",
      "|      C6|      23460|\n",
      "|    null|       1765|\n",
      "|      B2|      49945|\n",
      "|     C11|      42530|\n",
      "|     E13|      17536|\n",
      "|      B3|      35442|\n",
      "|      E5|      13239|\n",
      "+--------+-----------+\n",
      "only showing top 7 rows\n",
      "\n"
     ]
    }
   ],
   "source": [
    "#crimes_total - общее количество преступлений в этом районе\n",
    "crimes_total = df_crime.groupBy(\"DISTRICT\").agg(functions.count(\"INCIDENT_NUMBER\").alias(\"crime_count\"))\n",
    "crimes_total.show(7)"
   ]
  },
  {
   "cell_type": "code",
   "execution_count": 31,
   "id": "e958982f-9063-4c9b-ac7d-9084b10e36f5",
   "metadata": {},
   "outputs": [
    {
     "name": "stderr",
     "output_type": "stream",
     "text": [
      "[Stage 35:>                                                         (0 + 2) / 2]\r"
     ]
    },
    {
     "name": "stdout",
     "output_type": "stream",
     "text": [
      "+--------+----+-----+----------------------+\n",
      "|DISTRICT|YEAR|MONTH|median_crime_per_month|\n",
      "+--------+----+-----+----------------------+\n",
      "|      A1|2015|   10|                  1031|\n",
      "|      A1|2015|   11|                   838|\n",
      "|      A1|2015|   12|                   832|\n",
      "|      A1|2015|    6|                   445|\n",
      "|      A1|2015|    7|                   889|\n",
      "|      A1|2015|    8|                   966|\n",
      "+--------+----+-----+----------------------+\n",
      "only showing top 6 rows\n",
      "\n"
     ]
    },
    {
     "name": "stderr",
     "output_type": "stream",
     "text": [
      "                                                                                \r"
     ]
    }
   ],
   "source": [
    "#crimes_monthly - медиана числа преступлений в месяц в этом районе\n",
    "crimes_monthly_med = df_crime.groupBy(\"DISTRICT\", \"YEAR\", \"MONTH\").agg(functions.count(\"INCIDENT_NUMBER\").alias(\"crime_per_month\"))\n",
    "crimes_monthly = crimes_monthly_med.groupBy(\"DISTRICT\", \"YEAR\", \"MONTH\").agg(functions.percentile_approx(\"crime_per_month\", 0.5).alias(\"median_crime_per_month\"))\n",
    "crimes_monthly.filter(col(\"DISTRICT\").isNotNull()).show(6)"
   ]
  },
  {
   "cell_type": "code",
   "execution_count": 34,
   "id": "fa535178-37fa-4f36-98ad-307d11d4f0a3",
   "metadata": {},
   "outputs": [
    {
     "name": "stderr",
     "output_type": "stream",
     "text": [
      "[Stage 44:>                                                         (0 + 2) / 2]\r"
     ]
    },
    {
     "name": "stdout",
     "output_type": "stream",
     "text": [
      "+--------+------------------+\n",
      "|DISTRICT|           avg_lat|\n",
      "+--------+------------------+\n",
      "|      C6| 42.21212258445509|\n",
      "|    null| 25.23950519369344|\n",
      "|      B2| 42.31600367732632|\n",
      "|     C11| 42.29263740899965|\n",
      "|     E13|42.309803655709324|\n",
      "+--------+------------------+\n",
      "only showing top 5 rows\n",
      "\n"
     ]
    },
    {
     "name": "stderr",
     "output_type": "stream",
     "text": [
      "                                                                                \r"
     ]
    }
   ],
   "source": [
    "#lat - широта координаты района, расчитанная как среднее по всем широтам инцидентов\n",
    "lat = df_crime.groupBy(\"DISTRICT\").agg(functions.avg(\"Lat\").alias(\"avg_lat\"))\n",
    "lat.show(5)"
   ]
  },
  {
   "cell_type": "code",
   "execution_count": 35,
   "id": "e982de26-27ff-4821-9492-fa573f541157",
   "metadata": {},
   "outputs": [
    {
     "name": "stdout",
     "output_type": "stream",
     "text": [
      "+--------+------------------+\n",
      "|DISTRICT|          avg_long|\n",
      "+--------+------------------+\n",
      "|      C6|-70.85561011772268|\n",
      "|    null|-43.44877438704257|\n",
      "|      B2| -71.0756993065438|\n",
      "|     C11|-71.05125995734306|\n",
      "|     E13|-71.09800478878299|\n",
      "+--------+------------------+\n",
      "only showing top 5 rows\n",
      "\n"
     ]
    },
    {
     "name": "stderr",
     "output_type": "stream",
     "text": [
      "                                                                                \r"
     ]
    }
   ],
   "source": [
    "#lng - долгота координаты района, расчитанная как среднее по всем долготам инцидентов\n",
    "lng = df_crime.groupBy(\"DISTRICT\").agg(functions.avg(\"Long\").alias(\"avg_long\"))\n",
    "lng.show(5)"
   ]
  },
  {
   "cell_type": "code",
   "execution_count": null,
   "id": "55891da6-10df-403e-9528-158a77add16f",
   "metadata": {},
   "outputs": [],
   "source": []
  }
 ],
 "metadata": {
  "kernelspec": {
   "display_name": "Python 3 (ipykernel)",
   "language": "python",
   "name": "python3"
  },
  "language_info": {
   "codemirror_mode": {
    "name": "ipython",
    "version": 3
   },
   "file_extension": ".py",
   "mimetype": "text/x-python",
   "name": "python",
   "nbconvert_exporter": "python",
   "pygments_lexer": "ipython3",
   "version": "3.11.6"
  }
 },
 "nbformat": 4,
 "nbformat_minor": 5
}
