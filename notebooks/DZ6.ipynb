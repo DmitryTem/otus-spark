{
 "cells": [
  {
   "cell_type": "code",
   "execution_count": 1,
   "id": "52a50d71-c6e8-441b-b5e9-d749a5328c6f",
   "metadata": {},
   "outputs": [],
   "source": [
    "import findspark\n",
    "findspark.init('/opt/spark')\n",
    "import pyarrow\n",
    "from pyspark.sql import SparkSession\n"
   ]
  },
  {
   "cell_type": "code",
   "execution_count": 2,
   "id": "edff7d4b-a881-4772-8b1c-8b8021206a5a",
   "metadata": {},
   "outputs": [
    {
     "name": "stderr",
     "output_type": "stream",
     "text": [
      "Setting default log level to \"WARN\".\n",
      "To adjust logging level use sc.setLogLevel(newLevel). For SparkR, use setLogLevel(newLevel).\n",
      "25/01/09 12:20:27 WARN NativeCodeLoader: Unable to load native-hadoop library for your platform... using builtin-java classes where applicable\n"
     ]
    }
   ],
   "source": [
    "spark = SparkSession.builder\\\n",
    "    .master(\"local\")\\\n",
    "    .getOrCreate()"
   ]
  },
  {
   "cell_type": "code",
   "execution_count": 34,
   "id": "68d0df6a-b247-472a-b956-d2a9f5098a5f",
   "metadata": {},
   "outputs": [
    {
     "name": "stdout",
     "output_type": "stream",
     "text": [
      "+---------------+------------+------------------+-------------------+--------+--------------+--------+-------------------+----+-----+-----------+----+----------+-----------+-----------+------------+--------------------+\n",
      "|INCIDENT_NUMBER|OFFENSE_CODE|OFFENSE_CODE_GROUP|OFFENSE_DESCRIPTION|DISTRICT|REPORTING_AREA|SHOOTING|   OCCURRED_ON_DATE|YEAR|MONTH|DAY_OF_WEEK|HOUR|  UCR_PART|     STREET|        Lat|        Long|            Location|\n",
      "+---------------+------------+------------------+-------------------+--------+--------------+--------+-------------------+----+-----+-----------+----+----------+-----------+-----------+------------+--------------------+\n",
      "|     I182070945|       00619|           Larceny| LARCENY ALL OTHERS|     D14|           808|    null|2018-09-02 13:00:00|2018|    9|     Sunday|  13|  Part One| LINCOLN ST|42.35779134|-71.13937053|(42.35779134, -71...|\n",
      "|     I182070943|       01402|         Vandalism|          VANDALISM|     C11|           347|    null|2018-08-21 00:00:00|2018|    8|    Tuesday|   0|  Part Two|   HECLA ST|42.30682138|-71.06030035|(42.30682138, -71...|\n",
      "|     I182070941|       03410|             Towed|TOWED MOTOR VEHICLE|      D4|           151|    null|2018-09-03 19:27:00|2018|    9|     Monday|  19|Part Three|CAZENOVE ST|42.34658879|-71.07242943|(42.34658879, -71...|\n",
      "+---------------+------------+------------------+-------------------+--------+--------------+--------+-------------------+----+-----+-----------+----+----------+-----------+-----------+------------+--------------------+\n",
      "only showing top 3 rows\n",
      "\n"
     ]
    }
   ],
   "source": [
    "df_crime = spark.read.option(\"header\", True).csv(\"dz5/crime.csv\")\n",
    "df_crime.show(3)"
   ]
  },
  {
   "cell_type": "code",
   "execution_count": 12,
   "id": "5bb0db6f-5b92-46db-86cc-712ebb789631",
   "metadata": {},
   "outputs": [],
   "source": [
    "from pyspark.sql.types import StringType, IntegerType\n",
    "from pyspark.sql import functions\n",
    "from pyspark.sql.functions import PandasUDFType, pandas_udf, col\n",
    "import numpy as np\n",
    "import pandas as pd\n",
    "import pyspark.pandas as ps"
   ]
  },
  {
   "cell_type": "code",
   "execution_count": 49,
   "id": "012bc6e0-46bb-43bc-9a41-2eb55d94ad0b",
   "metadata": {},
   "outputs": [
    {
     "name": "stderr",
     "output_type": "stream",
     "text": [
      "/opt/spark/python/pyspark/sql/pandas/functions.py:399: UserWarning: In Python 3.6+ and Spark 3.0+, it is preferred to specify type hints for pandas UDF instead of specifying pandas UDF type which will be deprecated in the future releases. See SPARK-28264 for more details.\n",
      "  warnings.warn(\n"
     ]
    }
   ],
   "source": [
    "#Кумулятивную сумму количества преступлений за весь период по месяцам - с первого месяца наблюдений и до последнего, \n",
    "#используя pandas_udf и np.cumsum.\n",
    "@pandas_udf(\"long\", PandasUDFType.SCALAR)\n",
    "def cum_sum(ser: pd.Series) -> pd.Series:\n",
    "    return np.cumsum(ser)\n"
   ]
  },
  {
   "cell_type": "code",
   "execution_count": 50,
   "id": "5c6c031d-fe0f-43f3-9d9c-381c685cfb17",
   "metadata": {},
   "outputs": [
    {
     "name": "stdout",
     "output_type": "stream",
     "text": [
      "root\n",
      " |-- YEAR: string (nullable = true)\n",
      " |-- MONTH: string (nullable = true)\n",
      " |-- crime_per_month: long (nullable = false)\n",
      "\n"
     ]
    }
   ],
   "source": [
    "df_crime_1 = df_crime.groupBy(\"YEAR\", \"MONTH\").agg(functions.count(\"INCIDENT_NUMBER\").alias(\"crime_per_month\"))\n",
    "df_crime_1.printSchema()"
   ]
  },
  {
   "cell_type": "code",
   "execution_count": 57,
   "id": "20315be5-081f-47e2-b53c-7738626e289e",
   "metadata": {},
   "outputs": [
    {
     "name": "stdout",
     "output_type": "stream",
     "text": [
      "+----+-----+---------------+-----+\n",
      "|YEAR|MONTH|crime_per_month| csum|\n",
      "+----+-----+---------------+-----+\n",
      "|2015|    6|           4191| 4191|\n",
      "|2015|    7|           8324|12515|\n",
      "|2015|    8|           8342|20857|\n",
      "|2015|    9|           8414|29271|\n",
      "|2015|   10|           8308|37579|\n",
      "|2015|   11|           7818|45397|\n",
      "+----+-----+---------------+-----+\n",
      "only showing top 6 rows\n",
      "\n"
     ]
    }
   ],
   "source": [
    "df_crime_1 = df_crime_1.orderBy(col(\"YEAR\").cast(\"Int\"),col(\"MONTH\").cast(\"Int\")).withColumn(\"csum\", cum_sum(col(\"crime_per_month\")))\n",
    "df_crime_1.show(6)"
   ]
  },
  {
   "cell_type": "code",
   "execution_count": 87,
   "id": "b408c140-c99c-4fa4-9645-293626fbc655",
   "metadata": {},
   "outputs": [],
   "source": [
    "#Кумулятивную сумму количества преступлений по месяцам в рамках каждого года, используя группировку по году, applyInPandas и np.cumsum.\n",
    "def pd_cum_sum(pdf: pd.DataFrame) -> pd.DataFrame:\n",
    "    pdf[\"csum\"] = np.cumsum(pdf[\"crime_per_month\"])\n",
    "    return pdf"
   ]
  },
  {
   "cell_type": "code",
   "execution_count": 88,
   "id": "400d3d37-b5b1-4c38-b634-011f71cd3c31",
   "metadata": {},
   "outputs": [
    {
     "name": "stdout",
     "output_type": "stream",
     "text": [
      "root\n",
      " |-- YEAR: string (nullable = true)\n",
      " |-- MONTH: string (nullable = true)\n",
      " |-- crime_per_month: long (nullable = false)\n",
      "\n"
     ]
    }
   ],
   "source": [
    "df_crime_2 = df_crime.groupBy(\"YEAR\", \"MONTH\").agg(functions.count(\"INCIDENT_NUMBER\").alias(\"crime_per_month\")).orderBy(col(\"YEAR\").cast(\"Int\"), col(\"MONTH\").cast(\"Int\"))\n",
    "df_crime_2.printSchema()"
   ]
  },
  {
   "cell_type": "code",
   "execution_count": 93,
   "id": "a505f1c4-d9fc-41ab-b4dd-bd3508578943",
   "metadata": {},
   "outputs": [],
   "source": [
    "df_crime_2 = df_crime_2.groupBy(\"YEAR\").applyInPandas(pd_cum_sum , schema = \"YEAR string, MONTH string, crime_per_month long, csum double\")"
   ]
  },
  {
   "cell_type": "code",
   "execution_count": 94,
   "id": "e8aab735-7354-4c64-b1e5-bbb7efe13830",
   "metadata": {},
   "outputs": [
    {
     "name": "stderr",
     "output_type": "stream",
     "text": [
      "                                                                                \r"
     ]
    },
    {
     "name": "stdout",
     "output_type": "stream",
     "text": [
      "+----+-----+---------------+-------+\n",
      "|YEAR|MONTH|crime_per_month|   csum|\n",
      "+----+-----+---------------+-------+\n",
      "|2015|    6|           4191| 4191.0|\n",
      "|2015|    7|           8324|12515.0|\n",
      "|2015|    8|           8342|20857.0|\n",
      "|2015|    9|           8414|29271.0|\n",
      "|2015|   10|           8308|37579.0|\n",
      "|2015|   11|           7818|45397.0|\n",
      "|2015|   12|           7991|53388.0|\n",
      "|2016|    1|           7835| 7835.0|\n",
      "|2016|    2|           7308|15143.0|\n",
      "|2016|    3|           8199|23342.0|\n",
      "|2016|    4|           8101|31443.0|\n",
      "|2016|    5|           8578|40021.0|\n",
      "|2016|    6|           8558|48579.0|\n",
      "|2016|    7|           8619|57198.0|\n",
      "|2016|    8|           8938|66136.0|\n",
      "|2016|    9|           8522|74658.0|\n",
      "|2016|   10|           8583|83241.0|\n",
      "|2016|   11|           7922|91163.0|\n",
      "|2016|   12|           7951|99114.0|\n",
      "|2017|    1|           7993| 7993.0|\n",
      "+----+-----+---------------+-------+\n",
      "only showing top 20 rows\n",
      "\n"
     ]
    }
   ],
   "source": [
    "df_crime_2.show()"
   ]
  },
  {
   "cell_type": "code",
   "execution_count": null,
   "id": "d7b3b57d-56cb-4dcc-ba17-1ceaa0f59006",
   "metadata": {},
   "outputs": [],
   "source": []
  }
 ],
 "metadata": {
  "kernelspec": {
   "display_name": "Python 3 (ipykernel)",
   "language": "python",
   "name": "python3"
  },
  "language_info": {
   "codemirror_mode": {
    "name": "ipython",
    "version": 3
   },
   "file_extension": ".py",
   "mimetype": "text/x-python",
   "name": "python",
   "nbconvert_exporter": "python",
   "pygments_lexer": "ipython3",
   "version": "3.11.6"
  }
 },
 "nbformat": 4,
 "nbformat_minor": 5
}
