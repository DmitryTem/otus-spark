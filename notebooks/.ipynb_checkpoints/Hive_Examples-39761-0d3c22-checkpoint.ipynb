{
 "cells": [
  {
   "cell_type": "code",
   "execution_count": 8,
   "id": "1b209c16-b4dd-45cc-baca-3f8e606adb98",
   "metadata": {},
   "outputs": [
    {
     "name": "stdout",
     "output_type": "stream",
     "text": [
      "SLF4J: Class path contains multiple SLF4J bindings.\n",
      "SLF4J: Found binding in [jar:file:/opt/hive/lib/log4j-slf4j-impl-2.17.1.jar!/org/slf4j/impl/StaticLoggerBinder.class]\n",
      "SLF4J: Found binding in [jar:file:/opt/hadoop/share/hadoop/common/lib/slf4j-reload4j-1.7.36.jar!/org/slf4j/impl/StaticLoggerBinder.class]\n",
      "SLF4J: See http://www.slf4j.org/codes.html#multiple_bindings for an explanation.\n",
      "SLF4J: Actual binding is of type [org.apache.logging.slf4j.Log4jLoggerFactory]\n",
      "Hive Session ID = fddb2715-65ce-42cd-8e10-05b5b026d829\n",
      "\n",
      "Logging initialized using configuration in jar:file:/opt/hive/lib/hive-common-3.1.3.jar!/hive-log4j2.properties Async: true\n",
      "Hive Session ID = c999178e-38f9-4079-95d1-258e5a76c3c1\n",
      "OK\n",
      "1\n",
      "Time taken: 5.901 seconds, Fetched: 1 row(s)\n"
     ]
    }
   ],
   "source": [
    "! hive -e \"select 1\""
   ]
  },
  {
   "cell_type": "code",
   "execution_count": 9,
   "id": "652c8b2f-39be-4272-a9f2-48e260521990",
   "metadata": {},
   "outputs": [],
   "source": [
    "! hdfs dfs -mkdir /tmp/user_table"
   ]
  },
  {
   "cell_type": "code",
   "execution_count": 10,
   "id": "681e1434-d913-4cf5-be2c-e7a24c22e7b9",
   "metadata": {},
   "outputs": [],
   "source": [
    "! hdfs dfs -put userdata.csv /tmp/user_table/"
   ]
  },
  {
   "cell_type": "code",
   "execution_count": 15,
   "id": "0d881513-d361-4fd3-b20e-4d71e254f450",
   "metadata": {},
   "outputs": [
    {
     "name": "stdout",
     "output_type": "stream",
     "text": [
      "SLF4J: Class path contains multiple SLF4J bindings.\n",
      "SLF4J: Found binding in [jar:file:/opt/hive/lib/log4j-slf4j-impl-2.17.1.jar!/org/slf4j/impl/StaticLoggerBinder.class]\n",
      "SLF4J: Found binding in [jar:file:/opt/hadoop/share/hadoop/common/lib/slf4j-reload4j-1.7.36.jar!/org/slf4j/impl/StaticLoggerBinder.class]\n",
      "SLF4J: See http://www.slf4j.org/codes.html#multiple_bindings for an explanation.\n",
      "SLF4J: Actual binding is of type [org.apache.logging.slf4j.Log4jLoggerFactory]\n",
      "Hive Session ID = 8ad8d955-5d74-4f31-91c1-f226e64b38eb\n",
      "\n",
      "Logging initialized using configuration in jar:file:/opt/hive/lib/hive-common-3.1.3.jar!/hive-log4j2.properties Async: true\n",
      "Hive Session ID = b0e1b87c-927c-480b-8d9d-d2cc3ad20e3c\n",
      "OK\n",
      "Time taken: 2.445 seconds\n"
     ]
    }
   ],
   "source": [
    "! hive -e \"CREATE EXTERNAL TABLE user_data \\\n",
    "(id INT, name STRING) \\\n",
    "ROW FORMAT DELIMITED FIELDS TERMINATED BY ',' \\\n",
    "LOCATION '/tmp/user_table/'\""
   ]
  },
  {
   "cell_type": "code",
   "execution_count": 16,
   "id": "6a42a7d7-34e1-45b6-ab4a-8aa5a5fe92e8",
   "metadata": {},
   "outputs": [
    {
     "name": "stdout",
     "output_type": "stream",
     "text": [
      "SLF4J: Class path contains multiple SLF4J bindings.\n",
      "SLF4J: Found binding in [jar:file:/opt/hive/lib/log4j-slf4j-impl-2.17.1.jar!/org/slf4j/impl/StaticLoggerBinder.class]\n",
      "SLF4J: Found binding in [jar:file:/opt/hadoop/share/hadoop/common/lib/slf4j-reload4j-1.7.36.jar!/org/slf4j/impl/StaticLoggerBinder.class]\n",
      "SLF4J: See http://www.slf4j.org/codes.html#multiple_bindings for an explanation.\n",
      "SLF4J: Actual binding is of type [org.apache.logging.slf4j.Log4jLoggerFactory]\n",
      "Hive Session ID = 8d2aaf58-9b0d-47d9-a02f-07caa4c83fe3\n",
      "\n",
      "Logging initialized using configuration in jar:file:/opt/hive/lib/hive-common-3.1.3.jar!/hive-log4j2.properties Async: true\n",
      "Hive Session ID = b796077c-be22-416b-a01a-9751f281cb82\n",
      "OK\n",
      "Time taken: 3.497 seconds\n"
     ]
    }
   ],
   "source": [
    "! hive -e \"select * from user_data\""
   ]
  },
  {
   "cell_type": "code",
   "execution_count": 13,
   "id": "9d909bf7-bf20-434d-ad04-d527ee83b839",
   "metadata": {},
   "outputs": [
    {
     "name": "stdout",
     "output_type": "stream",
     "text": [
      "SLF4J: Class path contains multiple SLF4J bindings.\n",
      "SLF4J: Found binding in [jar:file:/opt/hive/lib/log4j-slf4j-impl-2.17.1.jar!/org/slf4j/impl/StaticLoggerBinder.class]\n",
      "SLF4J: Found binding in [jar:file:/opt/hadoop/share/hadoop/common/lib/slf4j-reload4j-1.7.36.jar!/org/slf4j/impl/StaticLoggerBinder.class]\n",
      "SLF4J: See http://www.slf4j.org/codes.html#multiple_bindings for an explanation.\n",
      "SLF4J: Actual binding is of type [org.apache.logging.slf4j.Log4jLoggerFactory]\n",
      "Hive Session ID = 42b159ea-3985-4865-a780-d200e813427b\n",
      "\n",
      "Logging initialized using configuration in jar:file:/opt/hive/lib/hive-common-3.1.3.jar!/hive-log4j2.properties Async: true\n",
      "Hive Session ID = 50476739-09c3-4303-9b34-878c200bbea1\n",
      "OK\n",
      "Time taken: 1.65 seconds\n"
     ]
    }
   ],
   "source": [
    "! hive -e \"drop table user_data\""
   ]
  },
  {
   "cell_type": "code",
   "execution_count": 18,
   "id": "88ef7860-bb5a-4ede-8ba3-48744c84bf0e",
   "metadata": {},
   "outputs": [
    {
     "name": "stdout",
     "output_type": "stream",
     "text": [
      "Deleted /tmp/user_table\n"
     ]
    }
   ],
   "source": [
    "! hdfs dfs -rm -r /tmp/user_table"
   ]
  },
  {
   "cell_type": "code",
   "execution_count": 19,
   "id": "537dd528-b48d-4673-835c-647f0ad00c74",
   "metadata": {},
   "outputs": [
    {
     "name": "stdout",
     "output_type": "stream",
     "text": [
      "ls: `/tmp/user_table': No such file or directory\n"
     ]
    }
   ],
   "source": [
    "! hdfs dfs -ls /tmp/user_table"
   ]
  },
  {
   "cell_type": "code",
   "execution_count": null,
   "id": "f20a0940-be83-43fe-b14f-417c21ca2d87",
   "metadata": {},
   "outputs": [],
   "source": []
  }
 ],
 "metadata": {
  "kernelspec": {
   "display_name": "Python 3 (ipykernel)",
   "language": "python",
   "name": "python3"
  },
  "language_info": {
   "codemirror_mode": {
    "name": "ipython",
    "version": 3
   },
   "file_extension": ".py",
   "mimetype": "text/x-python",
   "name": "python",
   "nbconvert_exporter": "python",
   "pygments_lexer": "ipython3",
   "version": "3.11.6"
  }
 },
 "nbformat": 4,
 "nbformat_minor": 5
}
