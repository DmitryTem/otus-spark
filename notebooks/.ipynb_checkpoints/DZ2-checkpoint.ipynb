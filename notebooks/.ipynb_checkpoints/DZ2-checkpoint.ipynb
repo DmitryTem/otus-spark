{
 "cells": [
  {
   "cell_type": "code",
   "execution_count": 4,
   "id": "2d42e84f-22bf-49d8-83c7-e34ff9c47123",
   "metadata": {},
   "outputs": [
    {
     "name": "stdout",
     "output_type": "stream",
     "text": [
      "bin   dev  home  media\tnotebook  proc\trun   srv  tmp\tvar\n",
      "boot  etc  lib\t mnt\topt\t  root\tsbin  sys  usr\n"
     ]
    }
   ],
   "source": [
    "! ls /"
   ]
  },
  {
   "cell_type": "code",
   "execution_count": 3,
   "id": "951e1bd1-59b0-43c7-8bb3-0076e5af52db",
   "metadata": {},
   "outputs": [
    {
     "name": "stdout",
     "output_type": "stream",
     "text": [
      "2024-12-15 18:11:47,809 WARN util.NativeCodeLoader: Unable to load native-hadoop library for your platform... using builtin-java classes where applicable\n",
      "drwxr-xr-x   - jupyter supergroup          0 2024-11-30 07:57 .sparkStaging\n"
     ]
    }
   ],
   "source": [
    "! hdfs dfs -ls -R"
   ]
  },
  {
   "cell_type": "code",
   "execution_count": 10,
   "id": "f6c4c74d-df95-4f7d-9ff5-899271504840",
   "metadata": {},
   "outputs": [
    {
     "name": "stdout",
     "output_type": "stream",
     "text": [
      "2024-12-15 18:13:30,040 WARN util.NativeCodeLoader: Unable to load native-hadoop library for your platform... using builtin-java classes where applicable\n",
      "mkdir: `dz2': File exists\n"
     ]
    }
   ],
   "source": [
    "! hdfs dfs -mkdir dz2"
   ]
  },
  {
   "cell_type": "code",
   "execution_count": 15,
   "id": "e91f7394-8ace-40f2-b255-d8b5b5b51d47",
   "metadata": {},
   "outputs": [
    {
     "name": "stdout",
     "output_type": "stream",
     "text": [
      "2024-12-15 18:14:45,026 WARN util.NativeCodeLoader: Unable to load native-hadoop library for your platform... using builtin-java classes where applicable\n",
      "Found 1 items\n",
      "-rw-r--r--   2 jupyter supergroup       2958 2024-12-15 18:14 dz2/bank_transactions_data_2.csv\n"
     ]
    }
   ],
   "source": [
    "! hdfs dfs -ls dz2/"
   ]
  },
  {
   "cell_type": "code",
   "execution_count": 16,
   "id": "d6dacc5a-63c2-4ad6-8457-2596e874f4da",
   "metadata": {},
   "outputs": [
    {
     "name": "stdout",
     "output_type": "stream",
     "text": [
      "2024-12-15 18:26:12,170 WARN util.NativeCodeLoader: Unable to load native-hadoop library for your platform... using builtin-java classes where applicable\n"
     ]
    }
   ],
   "source": [
    "! hdfs dfs -put bank_transactions_data.csv dz2/bank_transactions_data.csv"
   ]
  },
  {
   "cell_type": "code",
   "execution_count": 17,
   "id": "430af5c0-4e65-488c-91eb-97734c70f310",
   "metadata": {},
   "outputs": [
    {
     "name": "stdout",
     "output_type": "stream",
     "text": [
      "2024-12-15 18:26:15,526 WARN util.NativeCodeLoader: Unable to load native-hadoop library for your platform... using builtin-java classes where applicable\n",
      "Found 2 items\n",
      "-rw-r--r--   2 jupyter supergroup     344980 2024-12-15 18:26 dz2/bank_transactions_data.csv\n",
      "-rw-r--r--   2 jupyter supergroup       2958 2024-12-15 18:14 dz2/bank_transactions_data_2.csv\n"
     ]
    }
   ],
   "source": [
    "! hdfs dfs -ls dz2/"
   ]
  },
  {
   "cell_type": "code",
   "execution_count": 24,
   "id": "d0bcd2d5-fcba-4500-b326-dc7897aa6cf1",
   "metadata": {},
   "outputs": [
    {
     "name": "stdout",
     "output_type": "stream",
     "text": [
      "SLF4J: Class path contains multiple SLF4J bindings.\n",
      "SLF4J: Found binding in [jar:file:/opt/hive/lib/log4j-slf4j-impl-2.17.1.jar!/org/slf4j/impl/StaticLoggerBinder.class]\n",
      "SLF4J: Found binding in [jar:file:/opt/hadoop/share/hadoop/common/lib/slf4j-reload4j-1.7.36.jar!/org/slf4j/impl/StaticLoggerBinder.class]\n",
      "SLF4J: See http://www.slf4j.org/codes.html#multiple_bindings for an explanation.\n",
      "SLF4J: Actual binding is of type [org.apache.logging.slf4j.Log4jLoggerFactory]\n",
      "Hive Session ID = 907b4cb7-e446-475e-9646-a416f1fcd09c\n",
      "\n",
      "Logging initialized using configuration in jar:file:/opt/hive/lib/hive-common-3.1.3.jar!/hive-log4j2.properties Async: true\n",
      "Hive Session ID = 8e339945-8283-4577-b0e2-3a7191a6638e\n",
      "OK\n",
      "Time taken: 0.692 seconds\n"
     ]
    }
   ],
   "source": [
    "! hive -e \"CREATE EXTERNAL TABLE bank_transactions_data \\\n",
    "( \\\n",
    "TransactionID STRING, \\\n",
    "AccountID STRING, \\\n",
    "TransactionAmount STRING, \\\n",
    "TransactionDate STRING, \\\n",
    "TransactionType\t STRING, \\\n",
    "Location\t STRING, \\\n",
    "DeviceID\t STRING, \\\n",
    "IPAddress\t STRING, \\\n",
    "MerchantID\t STRING, \\\n",
    "Channel\t STRING, \\\n",
    "CustomerAge\t STRING, \\\n",
    "CustomerOccupation\t STRING, \\\n",
    "TransactionDuration\t STRING, \\\n",
    "LoginAttempts\t STRING, \\\n",
    "AccountBalance\t STRING, \\\n",
    "PreviousTransactionDate STRING \\\n",
    ") \\\n",
    "ROW FORMAT DELIMITED FIELDS TERMINATED BY ',' \\\n",
    "LOCATION '/dz2/bank_transactions_data/'\"\n"
   ]
  },
  {
   "cell_type": "code",
   "execution_count": 25,
   "id": "9162668f-fc0f-4b28-b17c-f371609c4207",
   "metadata": {},
   "outputs": [
    {
     "name": "stdout",
     "output_type": "stream",
     "text": [
      "SLF4J: Class path contains multiple SLF4J bindings.\n",
      "SLF4J: Found binding in [jar:file:/opt/hive/lib/log4j-slf4j-impl-2.17.1.jar!/org/slf4j/impl/StaticLoggerBinder.class]\n",
      "SLF4J: Found binding in [jar:file:/opt/hadoop/share/hadoop/common/lib/slf4j-reload4j-1.7.36.jar!/org/slf4j/impl/StaticLoggerBinder.class]\n",
      "SLF4J: See http://www.slf4j.org/codes.html#multiple_bindings for an explanation.\n",
      "SLF4J: Actual binding is of type [org.apache.logging.slf4j.Log4jLoggerFactory]\n",
      "Hive Session ID = 6d0e33bf-2257-4483-b8a8-b93e4996fff0\n",
      "\n",
      "Logging initialized using configuration in jar:file:/opt/hive/lib/hive-common-3.1.3.jar!/hive-log4j2.properties Async: true\n",
      "Hive Session ID = 00ffbb90-76fd-4a83-94df-0a7bf03ed696\n",
      "OK\n",
      "Time taken: 1.26 seconds\n"
     ]
    }
   ],
   "source": [
    "! hive -e \"Select * from bank_transactions_data\""
   ]
  },
  {
   "cell_type": "code",
   "execution_count": 34,
   "id": "b562332d-cbf8-4dcb-8f37-0b98f79b992c",
   "metadata": {},
   "outputs": [
    {
     "name": "stdout",
     "output_type": "stream",
     "text": [
      "SLF4J: Class path contains multiple SLF4J bindings.\n",
      "SLF4J: Found binding in [jar:file:/opt/hive/lib/log4j-slf4j-impl-2.17.1.jar!/org/slf4j/impl/StaticLoggerBinder.class]\n",
      "SLF4J: Found binding in [jar:file:/opt/hadoop/share/hadoop/common/lib/slf4j-reload4j-1.7.36.jar!/org/slf4j/impl/StaticLoggerBinder.class]\n",
      "SLF4J: See http://www.slf4j.org/codes.html#multiple_bindings for an explanation.\n",
      "SLF4J: Actual binding is of type [org.apache.logging.slf4j.Log4jLoggerFactory]\n",
      "Hive Session ID = 583ab50b-51d5-4f91-b86f-f9c6a0c53d45\n",
      "\n",
      "Logging initialized using configuration in jar:file:/opt/hive/lib/hive-common-3.1.3.jar!/hive-log4j2.properties Async: true\n",
      "Hive Session ID = f3fc8f65-3987-4915-9160-92d5e9c68866\n",
      "OK\n",
      "Time taken: 0.708 seconds\n"
     ]
    }
   ],
   "source": [
    "! hive -e \"CREATE TABLE bank_transactions_data_in \\\n",
    "( \\\n",
    "TransactionID STRING, \\\n",
    "AccountID STRING, \\\n",
    "TransactionAmount STRING, \\\n",
    "TransactionDate STRING, \\\n",
    "TransactionType\t STRING, \\\n",
    "Location\t STRING, \\\n",
    "DeviceID\t STRING, \\\n",
    "IPAddress  STRING, \\\n",
    "MerchantID\t STRING, \\\n",
    "Channel\t STRING, \\\n",
    "CustomerAge\t STRING, \\\n",
    "CustomerOccupation\t STRING, \\\n",
    "TransactionDuration\t STRING, \\\n",
    "LoginAttempts\t STRING, \\\n",
    "AccountBalance\t STRING, \\\n",
    "PreviousTransactionDate STRING \\\n",
    ") \\\n",
    "PARTITIONED BY (Year string) \\\n",
    "ROW FORMAT DELIMITED FIELDS TERMINATED BY ',' \""
   ]
  },
  {
   "cell_type": "code",
   "execution_count": 35,
   "id": "1a04b0f7-ec53-4afa-89a1-f8c76e5759d2",
   "metadata": {},
   "outputs": [
    {
     "name": "stdout",
     "output_type": "stream",
     "text": [
      "SLF4J: Class path contains multiple SLF4J bindings.\n",
      "SLF4J: Found binding in [jar:file:/opt/hive/lib/log4j-slf4j-impl-2.17.1.jar!/org/slf4j/impl/StaticLoggerBinder.class]\n",
      "SLF4J: Found binding in [jar:file:/opt/hadoop/share/hadoop/common/lib/slf4j-reload4j-1.7.36.jar!/org/slf4j/impl/StaticLoggerBinder.class]\n",
      "SLF4J: See http://www.slf4j.org/codes.html#multiple_bindings for an explanation.\n",
      "SLF4J: Actual binding is of type [org.apache.logging.slf4j.Log4jLoggerFactory]\n",
      "Hive Session ID = e1e68a89-a186-4985-9230-c3d8f27a6f4d\n",
      "\n",
      "Logging initialized using configuration in jar:file:/opt/hive/lib/hive-common-3.1.3.jar!/hive-log4j2.properties Async: true\n",
      "Hive Session ID = f1e46f22-7460-412e-9c7e-08127c26003c\n",
      "OK\n",
      "Time taken: 1.186 seconds\n"
     ]
    }
   ],
   "source": [
    "! hive -e \"Select * from bank_transactions_data_in\""
   ]
  },
  {
   "cell_type": "code",
   "execution_count": 48,
   "id": "afd4b960-6053-4811-bf63-28512aee7404",
   "metadata": {},
   "outputs": [
    {
     "name": "stdout",
     "output_type": "stream",
     "text": [
      "SLF4J: Class path contains multiple SLF4J bindings.\n",
      "SLF4J: Found binding in [jar:file:/opt/hive/lib/log4j-slf4j-impl-2.17.1.jar!/org/slf4j/impl/StaticLoggerBinder.class]\n",
      "SLF4J: Found binding in [jar:file:/opt/hadoop/share/hadoop/common/lib/slf4j-reload4j-1.7.36.jar!/org/slf4j/impl/StaticLoggerBinder.class]\n",
      "SLF4J: See http://www.slf4j.org/codes.html#multiple_bindings for an explanation.\n",
      "SLF4J: Actual binding is of type [org.apache.logging.slf4j.Log4jLoggerFactory]\n",
      "Hive Session ID = 5bccbbd8-925c-4aac-b8f8-c42bfaab0038\n",
      "\n",
      "Logging initialized using configuration in jar:file:/opt/hive/lib/hive-common-3.1.3.jar!/hive-log4j2.properties Async: true\n",
      "Hive Session ID = 41995bab-adfd-446b-9f35-00ce93311b5f\n"
     ]
    }
   ],
   "source": [
    "! hive -e \"set hive.exec.reducers.bytes.per.reducer=65536; set hive.exec.reducers.max=1000;\""
   ]
  },
  {
   "cell_type": "code",
   "execution_count": 6,
   "id": "d56f0c68-5c20-4908-8cba-85f4374ceaed",
   "metadata": {},
   "outputs": [
    {
     "name": "stdout",
     "output_type": "stream",
     "text": [
      "SLF4J: Class path contains multiple SLF4J bindings.\n",
      "SLF4J: Found binding in [jar:file:/opt/hive/lib/log4j-slf4j-impl-2.17.1.jar!/org/slf4j/impl/StaticLoggerBinder.class]\n",
      "SLF4J: Found binding in [jar:file:/opt/hadoop/share/hadoop/common/lib/slf4j-reload4j-1.7.36.jar!/org/slf4j/impl/StaticLoggerBinder.class]\n",
      "SLF4J: See http://www.slf4j.org/codes.html#multiple_bindings for an explanation.\n",
      "SLF4J: Actual binding is of type [org.apache.logging.slf4j.Log4jLoggerFactory]\n",
      "Hive Session ID = 130e2867-1016-4ef1-bd5e-819dea30f740\n",
      "\n",
      "Logging initialized using configuration in jar:file:/opt/hive/lib/hive-common-3.1.3.jar!/hive-log4j2.properties Async: true\n",
      "Hive Session ID = 89b6b9f1-48d4-49c4-a7ed-ef218bb063ff\n",
      "Query ID = jupyter_20241215194127_0fc9bdc0-0d1e-4457-b850-6145af76166a\n",
      "Total jobs = 3\n",
      "Launching Job 1 out of 3\n",
      "Number of reduce tasks not specified. Estimated from input data size: 1\n",
      "In order to change the average load for a reducer (in bytes):\n",
      "  set hive.exec.reducers.bytes.per.reducer=<number>\n",
      "In order to limit the maximum number of reducers:\n",
      "  set hive.exec.reducers.max=<number>\n",
      "In order to set a constant number of reducers:\n",
      "  set mapreduce.job.reduces=<number>\n",
      "Starting Job = job_1734290942850_0006, Tracking URL = http://master:8088/proxy/application_1734290942850_0006/\n",
      "Kill Command = /opt/hadoop/bin/mapred job  -kill job_1734290942850_0006\n",
      "Hadoop job information for Stage-1: number of mappers: 0; number of reducers: 1\n",
      "2024-12-15 19:41:33,718 Stage-1 map = 0%,  reduce = 0%\n",
      "2024-12-15 19:41:39,952 Stage-1 map = 0%,  reduce = 100%, Cumulative CPU 1.24 sec\n",
      "MapReduce Total cumulative CPU time: 1 seconds 240 msec\n",
      "Ended Job = job_1734290942850_0006\n",
      "Stage-4 is selected by condition resolver.\n",
      "Stage-3 is filtered out by condition resolver.\n",
      "Stage-5 is filtered out by condition resolver.\n",
      "Moving data to directory hdfs://master/user/hive/warehouse/bank_transactions_data_in/.hive-staging_hive_2024-12-15_19-41-27_951_9199690831394110110-1/-ext-10000\n",
      "Loading data to table default.bank_transactions_data_in partition (year=null)\n",
      "\n",
      "\n",
      "\t Time taken to load dynamic partitions: 0.01 seconds\n",
      "\t Time taken for adding to write entity : 0.0 seconds\n",
      "MapReduce Jobs Launched: \n",
      "Stage-Stage-1: Reduce: 1   Cumulative CPU: 1.24 sec   HDFS Read: 19750 HDFS Write: 87 SUCCESS\n",
      "Total MapReduce CPU Time Spent: 1 seconds 240 msec\n",
      "OK\n",
      "Time taken: 13.577 seconds\n"
     ]
    }
   ],
   "source": [
    "! hive -e \"insert into bank_transactions_data_in (select *, cast(date_format(TransactionDate,'yyyy') as string) as Year \\\n",
    "    from bank_transactions_data where '2023' = date_format(TransactionDate,'yyyy'))\" "
   ]
  },
  {
   "cell_type": "code",
   "execution_count": 7,
   "id": "68de4fb4-2d41-4f65-bac0-e177e3edc96d",
   "metadata": {},
   "outputs": [
    {
     "name": "stdout",
     "output_type": "stream",
     "text": [
      "SLF4J: Class path contains multiple SLF4J bindings.\n",
      "SLF4J: Found binding in [jar:file:/opt/hive/lib/log4j-slf4j-impl-2.17.1.jar!/org/slf4j/impl/StaticLoggerBinder.class]\n",
      "SLF4J: Found binding in [jar:file:/opt/hadoop/share/hadoop/common/lib/slf4j-reload4j-1.7.36.jar!/org/slf4j/impl/StaticLoggerBinder.class]\n",
      "SLF4J: See http://www.slf4j.org/codes.html#multiple_bindings for an explanation.\n",
      "SLF4J: Actual binding is of type [org.apache.logging.slf4j.Log4jLoggerFactory]\n",
      "Hive Session ID = 490ad4bd-9a72-4760-93bf-f5940d326b98\n",
      "\n",
      "Logging initialized using configuration in jar:file:/opt/hive/lib/hive-common-3.1.3.jar!/hive-log4j2.properties Async: true\n",
      "Hive Session ID = c1205441-ad16-4a51-ac45-3f42686bfb4b\n",
      "Query ID = jupyter_20241215194146_d005d536-4272-49ab-8209-48b34f6659c5\n",
      "Total jobs = 3\n",
      "Launching Job 1 out of 3\n",
      "Number of reduce tasks not specified. Estimated from input data size: 1\n",
      "In order to change the average load for a reducer (in bytes):\n",
      "  set hive.exec.reducers.bytes.per.reducer=<number>\n",
      "In order to limit the maximum number of reducers:\n",
      "  set hive.exec.reducers.max=<number>\n",
      "In order to set a constant number of reducers:\n",
      "  set mapreduce.job.reduces=<number>\n",
      "Starting Job = job_1734290942850_0007, Tracking URL = http://master:8088/proxy/application_1734290942850_0007/\n",
      "Kill Command = /opt/hadoop/bin/mapred job  -kill job_1734290942850_0007\n",
      "Hadoop job information for Stage-1: number of mappers: 0; number of reducers: 1\n",
      "2024-12-15 19:41:51,691 Stage-1 map = 0%,  reduce = 0%\n",
      "2024-12-15 19:41:56,876 Stage-1 map = 0%,  reduce = 100%, Cumulative CPU 1.02 sec\n",
      "MapReduce Total cumulative CPU time: 1 seconds 20 msec\n",
      "Ended Job = job_1734290942850_0007\n",
      "Stage-4 is selected by condition resolver.\n",
      "Stage-3 is filtered out by condition resolver.\n",
      "Stage-5 is filtered out by condition resolver.\n",
      "Moving data to directory hdfs://master/user/hive/warehouse/bank_transactions_data_in/.hive-staging_hive_2024-12-15_19-41-46_144_1762580712693624574-1/-ext-10000\n",
      "Loading data to table default.bank_transactions_data_in partition (year=null)\n",
      "\n",
      "\n",
      "\t Time taken to load dynamic partitions: 0.009 seconds\n",
      "\t Time taken for adding to write entity : 0.0 seconds\n",
      "MapReduce Jobs Launched: \n",
      "Stage-Stage-1: Reduce: 1   Cumulative CPU: 1.02 sec   HDFS Read: 19757 HDFS Write: 87 SUCCESS\n",
      "Total MapReduce CPU Time Spent: 1 seconds 20 msec\n",
      "OK\n",
      "Time taken: 13.276 seconds\n"
     ]
    }
   ],
   "source": [
    "! hive -e \"insert into bank_transactions_data_in (select *, cast(date_format(TransactionDate,'yyyy') as string) as Year \\\n",
    "    from bank_transactions_data where '2024' = date_format(TransactionDate,'yyyy'))\" "
   ]
  },
  {
   "cell_type": "code",
   "execution_count": 8,
   "id": "11a1d926-0116-4209-bd12-be8b955090fe",
   "metadata": {},
   "outputs": [
    {
     "name": "stdout",
     "output_type": "stream",
     "text": [
      "SLF4J: Class path contains multiple SLF4J bindings.\n",
      "SLF4J: Found binding in [jar:file:/opt/hive/lib/log4j-slf4j-impl-2.17.1.jar!/org/slf4j/impl/StaticLoggerBinder.class]\n",
      "SLF4J: Found binding in [jar:file:/opt/hadoop/share/hadoop/common/lib/slf4j-reload4j-1.7.36.jar!/org/slf4j/impl/StaticLoggerBinder.class]\n",
      "SLF4J: See http://www.slf4j.org/codes.html#multiple_bindings for an explanation.\n",
      "SLF4J: Actual binding is of type [org.apache.logging.slf4j.Log4jLoggerFactory]\n",
      "Hive Session ID = 4f3a40f3-ec16-405c-9f03-3769caa759c9\n",
      "\n",
      "Logging initialized using configuration in jar:file:/opt/hive/lib/hive-common-3.1.3.jar!/hive-log4j2.properties Async: true\n",
      "Hive Session ID = 2286ab70-f098-43f6-86d2-06015d0f30a4\n",
      "OK\n",
      "Time taken: 1.317 seconds\n"
     ]
    }
   ],
   "source": [
    "! hive -e \"Select * from bank_transactions_data_in limit 100\""
   ]
  },
  {
   "cell_type": "code",
   "execution_count": 22,
   "id": "a33e3461-7cc0-4f35-8920-6e4077ef79df",
   "metadata": {},
   "outputs": [
    {
     "name": "stdout",
     "output_type": "stream",
     "text": [
      "SLF4J: Class path contains multiple SLF4J bindings.\n",
      "SLF4J: Found binding in [jar:file:/opt/hive/lib/log4j-slf4j-impl-2.17.1.jar!/org/slf4j/impl/StaticLoggerBinder.class]\n",
      "SLF4J: Found binding in [jar:file:/opt/hadoop/share/hadoop/common/lib/slf4j-reload4j-1.7.36.jar!/org/slf4j/impl/StaticLoggerBinder.class]\n",
      "SLF4J: See http://www.slf4j.org/codes.html#multiple_bindings for an explanation.\n",
      "SLF4J: Actual binding is of type [org.apache.logging.slf4j.Log4jLoggerFactory]\n",
      "Hive Session ID = 69c5ee2d-bf55-4fe4-a79c-1b546ccbc7aa\n",
      "\n",
      "Logging initialized using configuration in jar:file:/opt/hive/lib/hive-common-3.1.3.jar!/hive-log4j2.properties Async: true\n",
      "Hive Session ID = 3ed1d30d-ce32-453e-9209-e864dc7e3981\n",
      "Query ID = jupyter_20241215195428_8eed85fd-237f-4ff9-8a07-811960a987fd\n",
      "Total jobs = 3\n",
      "Launching Job 1 out of 3\n",
      "Number of reduce tasks not specified. Estimated from input data size: 1\n",
      "In order to change the average load for a reducer (in bytes):\n",
      "  set hive.exec.reducers.bytes.per.reducer=<number>\n",
      "In order to limit the maximum number of reducers:\n",
      "  set hive.exec.reducers.max=<number>\n",
      "In order to set a constant number of reducers:\n",
      "  set mapreduce.job.reduces=<number>\n",
      "Starting Job = job_1734290942850_0008, Tracking URL = http://master:8088/proxy/application_1734290942850_0008/\n",
      "Kill Command = /opt/hadoop/bin/mapred job  -kill job_1734290942850_0008\n",
      "Hadoop job information for Stage-1: number of mappers: 0; number of reducers: 1\n",
      "2024-12-15 19:54:33,770 Stage-1 map = 0%,  reduce = 0%\n",
      "2024-12-15 19:54:39,956 Stage-1 map = 0%,  reduce = 100%, Cumulative CPU 0.98 sec\n",
      "MapReduce Total cumulative CPU time: 980 msec\n",
      "Ended Job = job_1734290942850_0008\n",
      "Stage-4 is selected by condition resolver.\n",
      "Stage-3 is filtered out by condition resolver.\n",
      "Stage-5 is filtered out by condition resolver.\n",
      "Moving data to directory hdfs://master/user/hive/warehouse/bank_transactions_data_in/.hive-staging_hive_2024-12-15_19-54-28_146_8815213158720448723-1/-ext-10000\n",
      "Loading data to table default.bank_transactions_data_in partition (year=null)\n",
      "\n",
      "\n",
      "\t Time taken to load dynamic partitions: 0.01 seconds\n",
      "\t Time taken for adding to write entity : 0.0 seconds\n",
      "MapReduce Jobs Launched: \n",
      "Stage-Stage-1: Reduce: 1   Cumulative CPU: 0.98 sec   HDFS Read: 19743 HDFS Write: 87 SUCCESS\n",
      "Total MapReduce CPU Time Spent: 980 msec\n",
      "OK\n",
      "Time taken: 13.289 seconds\n"
     ]
    }
   ],
   "source": [
    "! hive -e \"SET hive.exec.dynamic.partition = true; \\\n",
    "           SET hive.exec.dynamic.partition.mode = nonstrict; \\\n",
    "    INSERT OVERWRITE table bank_transactions_data_in PARTITION (Year) (select *, cast(date_format(TransactionDate,'yyyy') as string) as Year \\\n",
    "    from bank_transactions_data where '2024' = date_format(TransactionDate,'yyyy'))\"  "
   ]
  },
  {
   "cell_type": "code",
   "execution_count": null,
   "id": "c1f0ecdd-3f31-4551-b1e3-707fea1b3266",
   "metadata": {},
   "outputs": [],
   "source": []
  }
 ],
 "metadata": {
  "kernelspec": {
   "display_name": "Python 3 (ipykernel)",
   "language": "python",
   "name": "python3"
  },
  "language_info": {
   "codemirror_mode": {
    "name": "ipython",
    "version": 3
   },
   "file_extension": ".py",
   "mimetype": "text/x-python",
   "name": "python",
   "nbconvert_exporter": "python",
   "pygments_lexer": "ipython3",
   "version": "3.11.6"
  }
 },
 "nbformat": 4,
 "nbformat_minor": 5
}
